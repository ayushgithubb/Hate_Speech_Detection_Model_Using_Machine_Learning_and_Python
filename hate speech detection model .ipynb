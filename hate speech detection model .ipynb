{
 "cells": [
  {
   "cell_type": "code",
   "execution_count": 2,
   "id": "6e7e6772",
   "metadata": {},
   "outputs": [
    {
     "name": "stdout",
     "output_type": "stream",
     "text": [
      "Training Set: (31962, 3) 31962\n",
      "Test Set: (17197, 2) 17197\n"
     ]
    }
   ],
   "source": [
    "import pandas as pd\n",
    "\n",
    "train = pd.read_csv('train.csv')\n",
    "print(\"Training Set:\"% train.columns, train.shape, len(train))\n",
    "test = pd.read_csv('test.csv')\n",
    "print(\"Test Set:\"% test.columns, test.shape, len(test))"
   ]
  },
  {
   "cell_type": "code",
   "execution_count": 3,
   "id": "4d83c600",
   "metadata": {},
   "outputs": [],
   "source": [
    "import re\n",
    "def  clean_text(df, text_field):\n",
    "    df[text_field] = df[text_field].str.lower()\n",
    "    df[text_field] = df[text_field].apply(lambda elem: re.sub(r\"(@[A-Za-z0-9]+)|([^0-9A-Za-z \\t])|(\\w+:\\/\\/\\S+)|^rt|http.+?\", \"\", elem))  \n",
    "    return df\n",
    "test_clean = clean_text(test, \"tweet\")\n",
    "train_clean = clean_text(train, \"tweet\")"
   ]
  },
  {
   "cell_type": "code",
   "execution_count": 6,
   "id": "c61737fa",
   "metadata": {},
   "outputs": [
    {
     "name": "stdout",
     "output_type": "stream",
     "text": [
      "Collecting scikit-learn\n",
      "  Downloading scikit_learn-1.3.0-cp310-cp310-win_amd64.whl (9.2 MB)\n",
      "     ---------------------------------------- 0.0/9.2 MB ? eta -:--:--\n",
      "     ---------------------------------------- 0.0/9.2 MB 991.0 kB/s eta 0:00:10\n",
      "      --------------------------------------- 0.2/9.2 MB 2.8 MB/s eta 0:00:04\n",
      "     -- ------------------------------------- 0.6/9.2 MB 4.9 MB/s eta 0:00:02\n",
      "     ------ --------------------------------- 1.5/9.2 MB 8.4 MB/s eta 0:00:01\n",
      "     ---------- ----------------------------- 2.5/9.2 MB 11.3 MB/s eta 0:00:01\n",
      "     --------------- ------------------------ 3.7/9.2 MB 13.7 MB/s eta 0:00:01\n",
      "     -------------------- ------------------- 4.8/9.2 MB 15.4 MB/s eta 0:00:01\n",
      "     -------------------------- ------------- 6.0/9.2 MB 16.7 MB/s eta 0:00:01\n",
      "     ------------------------------ --------- 7.1/9.2 MB 17.6 MB/s eta 0:00:01\n",
      "     ----------------------------------- ---- 8.3/9.2 MB 18.3 MB/s eta 0:00:01\n",
      "     ---------------------------------------  9.2/9.2 MB 18.5 MB/s eta 0:00:01\n",
      "     ---------------------------------------- 9.2/9.2 MB 17.9 MB/s eta 0:00:00\n",
      "Collecting threadpoolctl>=2.0.0\n",
      "  Downloading threadpoolctl-3.2.0-py3-none-any.whl (15 kB)\n",
      "Requirement already satisfied: numpy>=1.17.3 in c:\\users\\ayush\\appdata\\local\\programs\\python\\python310\\lib\\site-packages (from scikit-learn) (1.24.2)\n",
      "Collecting scipy>=1.5.0\n",
      "  Downloading scipy-1.11.2-cp310-cp310-win_amd64.whl (44.0 MB)\n",
      "     ---------------------------------------- 0.0/44.0 MB ? eta -:--:--\n",
      "     - -------------------------------------- 1.2/44.0 MB 26.1 MB/s eta 0:00:02\n",
      "     -- ------------------------------------- 2.5/44.0 MB 26.0 MB/s eta 0:00:02\n",
      "     --- ------------------------------------ 3.6/44.0 MB 25.4 MB/s eta 0:00:02\n",
      "     ---- ----------------------------------- 4.7/44.0 MB 24.8 MB/s eta 0:00:02\n",
      "     ----- ---------------------------------- 6.1/44.0 MB 26.2 MB/s eta 0:00:02\n",
      "     ------ --------------------------------- 7.4/44.0 MB 26.3 MB/s eta 0:00:02\n",
      "     ------- -------------------------------- 8.6/44.0 MB 26.1 MB/s eta 0:00:02\n",
      "     -------- ------------------------------- 9.7/44.0 MB 26.0 MB/s eta 0:00:02\n",
      "     --------- ----------------------------- 11.0/44.0 MB 26.2 MB/s eta 0:00:02\n",
      "     ---------- ---------------------------- 12.2/44.0 MB 26.2 MB/s eta 0:00:02\n",
      "     ----------- --------------------------- 13.4/44.0 MB 26.2 MB/s eta 0:00:02\n",
      "     ------------- ------------------------- 14.7/44.0 MB 26.2 MB/s eta 0:00:02\n",
      "     -------------- ------------------------ 15.9/44.0 MB 26.2 MB/s eta 0:00:02\n",
      "     --------------- ----------------------- 17.2/44.0 MB 26.2 MB/s eta 0:00:02\n",
      "     ---------------- ---------------------- 18.5/44.0 MB 26.2 MB/s eta 0:00:01\n",
      "     ----------------- --------------------- 19.7/44.0 MB 26.2 MB/s eta 0:00:01\n",
      "     ------------------ -------------------- 21.0/44.0 MB 26.2 MB/s eta 0:00:01\n",
      "     ------------------- ------------------- 22.2/44.0 MB 26.2 MB/s eta 0:00:01\n",
      "     -------------------- ------------------ 23.5/44.0 MB 26.2 MB/s eta 0:00:01\n",
      "     --------------------- ----------------- 24.7/44.0 MB 26.2 MB/s eta 0:00:01\n",
      "     ----------------------- --------------- 26.0/44.0 MB 26.2 MB/s eta 0:00:01\n",
      "     ------------------------ -------------- 27.2/44.0 MB 26.2 MB/s eta 0:00:01\n",
      "     ------------------------- ------------- 28.3/44.0 MB 26.2 MB/s eta 0:00:01\n",
      "     -------------------------- ------------ 29.6/44.0 MB 26.2 MB/s eta 0:00:01\n",
      "     --------------------------- ----------- 30.9/44.0 MB 26.2 MB/s eta 0:00:01\n",
      "     ---------------------------- ---------- 32.0/44.0 MB 26.2 MB/s eta 0:00:01\n",
      "     ----------------------------- --------- 33.3/44.0 MB 26.2 MB/s eta 0:00:01\n",
      "     ------------------------------ -------- 34.6/44.0 MB 26.2 MB/s eta 0:00:01\n",
      "     ------------------------------- ------- 35.8/44.0 MB 26.2 MB/s eta 0:00:01\n",
      "     -------------------------------- ------ 36.7/44.0 MB 26.2 MB/s eta 0:00:01\n",
      "     --------------------------------- ----- 38.1/44.0 MB 26.2 MB/s eta 0:00:01\n",
      "     ---------------------------------- ---- 39.2/44.0 MB 27.3 MB/s eta 0:00:01\n",
      "     ----------------------------------- --- 39.8/44.0 MB 25.2 MB/s eta 0:00:01\n",
      "     ------------------------------------ -- 41.1/44.0 MB 25.2 MB/s eta 0:00:01\n",
      "     ------------------------------------- - 42.2/44.0 MB 25.2 MB/s eta 0:00:01\n",
      "     --------------------------------------  43.4/44.0 MB 25.2 MB/s eta 0:00:01\n",
      "     --------------------------------------  44.0/44.0 MB 24.2 MB/s eta 0:00:01\n",
      "     --------------------------------------  44.0/44.0 MB 24.2 MB/s eta 0:00:01\n",
      "     --------------------------------------  44.0/44.0 MB 24.2 MB/s eta 0:00:01\n",
      "     --------------------------------------- 44.0/44.0 MB 18.2 MB/s eta 0:00:00\n",
      "Collecting joblib>=1.1.1\n",
      "  Downloading joblib-1.3.2-py3-none-any.whl (302 kB)\n",
      "     ---------------------------------------- 0.0/302.2 kB ? eta -:--:--\n",
      "     ------------------------------------- 302.2/302.2 kB 18.2 MB/s eta 0:00:00\n",
      "Installing collected packages: threadpoolctl, scipy, joblib, scikit-learn\n",
      "Successfully installed joblib-1.3.2 scikit-learn-1.3.0 scipy-1.11.2 threadpoolctl-3.2.0\n",
      "Note: you may need to restart the kernel to use updated packages.\n"
     ]
    },
    {
     "name": "stderr",
     "output_type": "stream",
     "text": [
      "\n",
      "[notice] A new release of pip is available: 23.0.1 -> 23.2.1\n",
      "[notice] To update, run: C:\\Users\\ayush\\AppData\\Local\\Programs\\Python\\Python310\\python.exe -m pip install --upgrade pip\n"
     ]
    }
   ],
   "source": [
    "pip install scikit-learn\n"
   ]
  },
  {
   "cell_type": "code",
   "execution_count": 7,
   "id": "8b0fcdd6",
   "metadata": {},
   "outputs": [
    {
     "name": "stdout",
     "output_type": "stream",
     "text": [
      "1.3.0\n"
     ]
    }
   ],
   "source": [
    "import sklearn\n",
    "print(sklearn.__version__)\n"
   ]
  },
  {
   "cell_type": "code",
   "execution_count": 8,
   "id": "7063ab33",
   "metadata": {},
   "outputs": [
    {
     "data": {
      "text/plain": [
       "label\n",
       "1    29720\n",
       "0    29720\n",
       "Name: count, dtype: int64"
      ]
     },
     "execution_count": 8,
     "metadata": {},
     "output_type": "execute_result"
    }
   ],
   "source": [
    "from sklearn.utils import resample\n",
    "train_majority = train_clean[train_clean.label==0]\n",
    "train_minority = train_clean[train_clean.label==1]\n",
    "train_minority_upsampled = resample(train_minority, \n",
    "                                 replace=True,    \n",
    "                                 n_samples=len(train_majority),   \n",
    "                                 random_state=123)\n",
    "train_upsampled = pd.concat([train_minority_upsampled, train_majority])\n",
    "train_upsampled['label'].value_counts()"
   ]
  },
  {
   "cell_type": "code",
   "execution_count": 9,
   "id": "ab1e76e7",
   "metadata": {},
   "outputs": [],
   "source": [
    "from sklearn.feature_extraction.text import TfidfVectorizer\n",
    "from sklearn.pipeline import Pipeline\n",
    "from sklearn.feature_extraction.text import CountVectorizer\n",
    "from sklearn.feature_extraction.text import TfidfTransformer\n",
    "from sklearn.linear_model import SGDClassifier\n",
    "pipeline_sgd = Pipeline([\n",
    "    ('vect', CountVectorizer()),\n",
    "    ('tfidf',  TfidfTransformer()),\n",
    "    ('nb', SGDClassifier()),])"
   ]
  },
  {
   "cell_type": "code",
   "execution_count": 10,
   "id": "837aaeba",
   "metadata": {},
   "outputs": [],
   "source": [
    "from sklearn.model_selection import train_test_split\n",
    "X_train, X_test, y_train, y_test = train_test_split(train_upsampled['tweet'],\n",
    "                                                    train_upsampled['label'],random_state = 0)"
   ]
  },
  {
   "cell_type": "code",
   "execution_count": 11,
   "id": "dc51783d",
   "metadata": {},
   "outputs": [
    {
     "data": {
      "text/plain": [
       "0.9696"
      ]
     },
     "execution_count": 11,
     "metadata": {},
     "output_type": "execute_result"
    }
   ],
   "source": [
    "model = pipeline_sgd.fit(X_train, y_train)\n",
    "y_predict = model.predict(X_test)\n",
    "from sklearn.metrics import f1_score\n",
    "f1_score(y_test, y_predict)"
   ]
  },
  {
   "cell_type": "code",
   "execution_count": null,
   "id": "b193c53d",
   "metadata": {},
   "outputs": [],
   "source": []
  }
 ],
 "metadata": {
  "kernelspec": {
   "display_name": "Python 3 (ipykernel)",
   "language": "python",
   "name": "python3"
  },
  "language_info": {
   "codemirror_mode": {
    "name": "ipython",
    "version": 3
   },
   "file_extension": ".py",
   "mimetype": "text/x-python",
   "name": "python",
   "nbconvert_exporter": "python",
   "pygments_lexer": "ipython3",
   "version": "3.10.5"
  }
 },
 "nbformat": 4,
 "nbformat_minor": 5
}
